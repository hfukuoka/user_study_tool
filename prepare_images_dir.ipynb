{
 "cells": [
  {
   "attachments": {},
   "cell_type": "markdown",
   "metadata": {},
   "source": [
    "# 画像をimg_comparison_tool用に配置するためのスクリプト"
   ]
  },
  {
   "cell_type": "code",
   "execution_count": 1,
   "metadata": {},
   "outputs": [],
   "source": [
    "original_dir = \"/home/usrs/fukuoka/program/research/data/kodak\"\n",
    "a_dir = \"/home/usrs/fukuoka/research/spatially_adaptive_realism/result/exp0-3-8_2_nogan/kodak/iter500K\"\n",
    "method_a_name = \"exp0-3-8_2_nogan\"\n",
    "b_dir = \"/home/usrs/fukuoka/research/spatially_adaptive_realism/result/exp0-2-10/kodak\"\n",
    "method_b_name = \"exp0-2-10\"\n",
    "ex_name = \"20240909\"\n",
    "size=24\n",
    "ext = \".png\"\n",
    "\n",
    "from glob import glob\n",
    "import os\n",
    "import shutil\n",
    "import numpy as np\n",
    "import pandas as pd\n",
    "import cv2\n",
    "\n",
    "original_path_list = glob(os.path.join(original_dir, f\"*{ext}\"))\n",
    "a_path_list = glob(os.path.join(a_dir, f\"*{ext}\"))\n",
    "b_path_list = glob(os.path.join(b_dir, f\"*{ext}\"))\n",
    "# print(original_path_list)\n",
    "# print(a_path_list)\n",
    "# print(b_path_list)"
   ]
  },
  {
   "cell_type": "code",
   "execution_count": 2,
   "metadata": {},
   "outputs": [],
   "source": [
    "out_dir = os.path.join(\"./images/\", ex_name)\n",
    "\n",
    "dir = os.path.join(\"./images/\", ex_name)\n",
    " \n",
    "if not os.path.exists(dir):\n",
    "    # ディレクトリが存在しない場合、ディレクトリを作成する\n",
    "    os.makedirs(dir)\n",
    "\n",
    "for i in range(1, size+1):\n",
    "    p = os.path.join(dir, f\"img{i}\")\n",
    "    # print(p)\n",
    "    if not os.path.exists(p):\n",
    "        os.makedirs(p)\n"
   ]
  },
  {
   "cell_type": "code",
   "execution_count": 3,
   "metadata": {},
   "outputs": [],
   "source": [
    "img_info_list = []\n",
    "\n",
    "for i in range(size):\n",
    "    a_img_name = a_path_list[i].split('/')[-1]\n",
    "    b_img_name = b_path_list[i].split('/')[-1]\n",
    "    original_img_name = original_path_list[i].split('/')[-1]\n",
    "    assert a_img_name == b_img_name and b_img_name == original_img_name, \"method aとmethod bと元画像の画像ファイル名は全て同じである必要があります\"\n",
    "\n",
    "path_lists = [a_path_list, b_path_list]\n",
    "map = [\"a\", \"b\"]\n",
    "for i in range(size):\n",
    "    ts = [1, 2]\n",
    "    img_name = a_path_list[i].split('/')[-1].split('.')[-2]\n",
    "    img_info = {\"img_id\":f\"img{i+1}\", \"img_name\":img_name}\n",
    "    \n",
    "    # 元画像コピー\n",
    "    shutil.copy(original_path_list[i], os.path.join(out_dir, f\"img{i+1}/3.jpg\"))\n",
    "    \n",
    "    #手法aと手法bのスワップ\n",
    "    r = np.random.rand()\n",
    "    if r >= 0.5:\n",
    "        ts[1], ts[0] = ts\n",
    "        img_info[\"1.jpg(methodA)\"] = method_b_name\n",
    "        img_info[\"2.jpg(methodB)\"] = method_a_name\n",
    "    else:\n",
    "        img_info[\"1.jpg(methodA)\"] = method_a_name\n",
    "        img_info[\"2.jpg(methodB)\"] = method_b_name\n",
    "\n",
    "    for j in range(2):\n",
    "        out_path = os.path.join(out_dir, f\"img{i+1}/{ts[j]}.jpg\")\n",
    "        # print(out_path)\n",
    "        shutil.copy(path_lists[j][i], out_path)\n",
    "    img_info_list.append(img_info)\n",
    "    \n",
    "# ログに記録\n",
    "img_info_df = pd.DataFrame(img_info_list)\n",
    "# print(img_info_df)\n",
    "img_info_df.to_csv(os.path.join(\"./images/\", ex_name, \"img_info.csv\"))"
   ]
  },
  {
   "cell_type": "code",
   "execution_count": 4,
   "metadata": {},
   "outputs": [],
   "source": [
    "path_list = glob(f\"./images/{ex_name}/img*\")\n",
    "\n",
    "for p in path_list:\n",
    "    dir_id  = p.split(\"/\")[-1][3:]\n",
    "    if os.path.isdir(p):\n",
    "        shutil.copytree(p, f\"./images/{ex_name}/img{dir_id}_large\")\n",
    "        \n",
    "for i in range(1, size+1):\n",
    "    path_list = glob(f\"./images/{ex_name}/img{i}_large/*.jpg\")\n",
    "    for p in path_list:\n",
    "        # print(p)\n",
    "        img = cv2.imread(p)\n",
    "        # print(img.shape)\n",
    "        h, w, _ = img.shape\n",
    "        img_resize = cv2.resize(img, None, fx=2.0, fy=2.0)\n",
    "        # print(img_resize.shape)\n",
    "        cv2.imwrite(p, img_resize)"
   ]
  }
 ],
 "metadata": {
  "kernelspec": {
   "display_name": "qmap_comp",
   "language": "python",
   "name": "python3"
  },
  "language_info": {
   "codemirror_mode": {
    "name": "ipython",
    "version": 3
   },
   "file_extension": ".py",
   "mimetype": "text/x-python",
   "name": "python",
   "nbconvert_exporter": "python",
   "pygments_lexer": "ipython3",
   "version": "3.10.13"
  },
  "orig_nbformat": 4,
  "vscode": {
   "interpreter": {
    "hash": "3cfbd610d25f4dd2b869458113d67e191d1a701e78cc81757dfb86e024fcf1b6"
   }
  }
 },
 "nbformat": 4,
 "nbformat_minor": 2
}
